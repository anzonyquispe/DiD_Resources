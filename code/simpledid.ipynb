{
  "nbformat": 4,
  "nbformat_minor": 0,
  "metadata": {
    "colab": {
      "provenance": []
    },
    "kernelspec": {
      "name": "ir",
      "display_name": "R"
    },
    "language_info": {
      "name": "R"
    }
  },
  "cells": [
    {
      "cell_type": "code",
      "source": [
        "install.packages(\"data.table\")\n",
        "install.packages(\"panelView\")\n",
        "install.packages(\"fixest\")\n",
        "install.packages(\"ggfixest\")\n"
      ],
      "metadata": {
        "colab": {
          "base_uri": "https://localhost:8080/"
        },
        "id": "4kjsyNOt7Tca",
        "outputId": "723eef7e-9bc7-4414-b118-034fa75b67e7"
      },
      "execution_count": null,
      "outputs": [
        {
          "output_type": "stream",
          "name": "stderr",
          "text": [
            "Installing package into ‘/usr/local/lib/R/site-library’\n",
            "(as ‘lib’ is unspecified)\n",
            "\n",
            "Installing package into ‘/usr/local/lib/R/site-library’\n",
            "(as ‘lib’ is unspecified)\n",
            "\n",
            "Installing package into ‘/usr/local/lib/R/site-library’\n",
            "(as ‘lib’ is unspecified)\n",
            "\n",
            "Installing package into ‘/usr/local/lib/R/site-library’\n",
            "(as ‘lib’ is unspecified)\n",
            "\n"
          ]
        }
      ]
    },
    {
      "cell_type": "code",
      "source": [
        "library(data.table)\n",
        "library(panelView)\n",
        "library(fixest)\n",
        "library(ggfixest)\n",
        "library(fixest)\n",
        "\n",
        "df1 <- fread(\"https://www.dropbox.com/scl/fi/expasrjq9zwkck4qqtfhw/FAO_data.csv?rlkey=eaumeueb63kmp7habiz8xnl0h&dl=1\")\n",
        "\n",
        "table(df1$post_ror_data_entry)\n"
      ],
      "metadata": {
        "colab": {
          "base_uri": "https://localhost:8080/",
          "height": 71
        },
        "id": "FAu52M2l7esh",
        "outputId": "573b8849-6034-4f12-c0bb-f572a7b107fe"
      },
      "execution_count": null,
      "outputs": [
        {
          "output_type": "display_data",
          "data": {
            "text/plain": [
              "\n",
              "     0      1 \n",
              "122950  35574 "
            ]
          },
          "metadata": {}
        }
      ]
    },
    {
      "cell_type": "code",
      "source": [
        "\n",
        "df1 <- df1[ !is.na(post_ror_data_entry), ]\n",
        "panelview(pota ~ post_ror_data_entry, data = df1, index = c(\"voronoi_id\",\"year\"),\n",
        "          xlab = \"Year\", ylab = \"Pixel\", by.timing = TRUE )\n",
        "\n"
      ],
      "metadata": {
        "colab": {
          "base_uri": "https://localhost:8080/",
          "height": 616
        },
        "id": "CcbeaqoE9gPE",
        "outputId": "897b324c-fe98-445f-e54d-a62f9932358b"
      },
      "execution_count": null,
      "outputs": [
        {
          "output_type": "stream",
          "name": "stderr",
          "text": [
            "Time is not evenly distributed (possibly due to missing data).\n",
            "\n",
            "\n",
            "If the number of units is more than 300, we set \"gridOff = TRUE\".\n",
            "\n",
            "\n",
            "If the number of units is more than 500, we randomly select 500 units to present.\n",
            "        You can set \"display.all = TRUE\" to show all units.\n",
            "\n",
            "\n"
          ]
        },
        {
          "output_type": "display_data",
          "data": {
            "text/plain": [
              "plot without title"
            ],
            "image/png": "[encoded data removed]"
          },
          "metadata": {
            "image/png": {
              "width": 420,
              "height": 420
            }
          }
        }
      ]
    },
    {
      "cell_type": "code",
      "source": [
        "na_ids <- df1[is.na(pota), unique(voronoi_id)]\n",
        "df.pt <- df1[!voronoi_id %in% na_ids]\n",
        "\n",
        "panelview(pota  ~post_ror_data_entry, data = df.pt, index = c(\"voronoi_id\",\"year\"),\n",
        "          xlab = \"Year\", ylab = \"Pixel\", by.timing = TRUE )"
      ],
      "metadata": {
        "colab": {
          "base_uri": "https://localhost:8080/",
          "height": 616
        },
        "id": "AgM3gFQhdKaW",
        "outputId": "c9d5d20f-9815-4562-edd5-f1c5f6808485"
      },
      "execution_count": null,
      "outputs": [
        {
          "output_type": "stream",
          "name": "stderr",
          "text": [
            "Time is not evenly distributed (possibly due to missing data).\n",
            "\n",
            "\n",
            "If the number of units is more than 300, we set \"gridOff = TRUE\".\n",
            "\n",
            "\n",
            "If the number of units is more than 500, we randomly select 500 units to present.\n",
            "        You can set \"display.all = TRUE\" to show all units.\n",
            "\n",
            "\n"
          ]
        },
        {
          "output_type": "display_data",
          "data": {
            "text/plain": [
              "plot without title"
            ],
            "image/png": "[encoded data removed]"
          },
          "metadata": {
            "image/png": {
              "width": 420,
              "height": 420
            }
          }
        }
      ]
    },
    {
      "cell_type": "code",
      "source": [
        "df1"
      ],
      "metadata": {
        "id": "atFNHHtDd9v9",
        "outputId": "0e0a40a5-c835-4c92-df6a-b7280dc462c1",
        "colab": {
          "base_uri": "https://localhost:8080/",
          "height": 1000
        }
      },
      "execution_count": 6,
      "outputs": [
        {
          "output_type": "display_data",
          "data": {
            "text/html": [
              "<table class=\"dataframe\">\n",
              "<caption>A data.table: 158524 × 11</caption>\n",
              "<thead>\n",
              "\t<tr><th scope=col>pc11_s_id</th><th scope=col>pc11_d_id</th><th scope=col>pc11_sd_id</th><th scope=col>year</th><th scope=col>voronoi_id</th><th scope=col>pota</th><th scope=col>rice</th><th scope=col>sugc</th><th scope=col>whea</th><th scope=col>post_ror_data_entry</th><th scope=col>subdistrict_id</th></tr>\n",
              "\t<tr><th scope=col>&lt;int&gt;</th><th scope=col>&lt;int&gt;</th><th scope=col>&lt;int&gt;</th><th scope=col>&lt;int&gt;</th><th scope=col>&lt;int&gt;</th><th scope=col>&lt;dbl&gt;</th><th scope=col>&lt;dbl&gt;</th><th scope=col>&lt;dbl&gt;</th><th scope=col>&lt;dbl&gt;</th><th scope=col>&lt;int&gt;</th><th scope=col>&lt;int&gt;</th></tr>\n",
              "</thead>\n",
              "<tbody>\n",
              "\t<tr><td>1</td><td>1</td><td>1</td><td>2000</td><td>31609</td><td>10.5</td><td>  13.0</td><td>2.8</td><td>   0.0</td><td>0</td><td>1</td></tr>\n",
              "\t<tr><td>1</td><td>1</td><td>1</td><td>2000</td><td>31997</td><td>24.1</td><td>   0.0</td><td>5.7</td><td>   0.0</td><td>0</td><td>1</td></tr>\n",
              "\t<tr><td>1</td><td>1</td><td>1</td><td>2000</td><td>32000</td><td>15.8</td><td>   0.0</td><td>1.9</td><td>   0.0</td><td>0</td><td>1</td></tr>\n",
              "\t<tr><td>1</td><td>1</td><td>1</td><td>2000</td><td>32003</td><td>11.4</td><td>   0.0</td><td>1.8</td><td>   0.0</td><td>0</td><td>1</td></tr>\n",
              "\t<tr><td>1</td><td>1</td><td>1</td><td>2000</td><td>32385</td><td>51.7</td><td> 144.0</td><td>8.9</td><td>   0.0</td><td>0</td><td>1</td></tr>\n",
              "\t<tr><td>1</td><td>1</td><td>1</td><td>2000</td><td>32388</td><td> 1.4</td><td> 479.2</td><td>0.0</td><td>   0.0</td><td>0</td><td>1</td></tr>\n",
              "\t<tr><td>1</td><td>1</td><td>1</td><td>2000</td><td>32391</td><td>14.5</td><td>   0.0</td><td>1.6</td><td>   0.0</td><td>0</td><td>1</td></tr>\n",
              "\t<tr><td>1</td><td>1</td><td>1</td><td>2000</td><td>32776</td><td>33.4</td><td> 498.8</td><td>3.3</td><td>   0.0</td><td>0</td><td>1</td></tr>\n",
              "\t<tr><td>1</td><td>1</td><td>1</td><td>2000</td><td>32779</td><td>  NA</td><td>    NA</td><td> NA</td><td>    NA</td><td>0</td><td>1</td></tr>\n",
              "\t<tr><td>1</td><td>1</td><td>1</td><td>2000</td><td>33164</td><td>23.4</td><td>2022.1</td><td>3.6</td><td>  74.3</td><td>0</td><td>1</td></tr>\n",
              "\t<tr><td>1</td><td>1</td><td>1</td><td>2000</td><td>33167</td><td>23.2</td><td>  12.2</td><td>3.1</td><td>   0.0</td><td>0</td><td>1</td></tr>\n",
              "\t<tr><td>1</td><td>1</td><td>1</td><td>2000</td><td>33170</td><td>14.4</td><td>   0.0</td><td>1.6</td><td>   0.0</td><td>0</td><td>1</td></tr>\n",
              "\t<tr><td>1</td><td>1</td><td>1</td><td>2000</td><td>33552</td><td>33.0</td><td>1054.2</td><td>3.1</td><td>   0.0</td><td>0</td><td>1</td></tr>\n",
              "\t<tr><td>1</td><td>1</td><td>1</td><td>2000</td><td>33555</td><td>31.8</td><td>  12.2</td><td>3.2</td><td>   0.0</td><td>0</td><td>1</td></tr>\n",
              "\t<tr><td>1</td><td>1</td><td>1</td><td>2000</td><td>33558</td><td>23.1</td><td>   0.0</td><td>3.1</td><td>   0.0</td><td>0</td><td>1</td></tr>\n",
              "\t<tr><td>1</td><td>1</td><td>1</td><td>2000</td><td>33937</td><td>58.1</td><td> 486.2</td><td>8.5</td><td>   4.7</td><td>0</td><td>1</td></tr>\n",
              "\t<tr><td>1</td><td>1</td><td>1</td><td>2000</td><td>33940</td><td>92.6</td><td>1378.3</td><td>3.4</td><td>  13.3</td><td>0</td><td>1</td></tr>\n",
              "\t<tr><td>1</td><td>1</td><td>1</td><td>2000</td><td>33943</td><td>32.8</td><td>   0.0</td><td>3.1</td><td>   0.0</td><td>0</td><td>1</td></tr>\n",
              "\t<tr><td>1</td><td>1</td><td>1</td><td>2000</td><td>33946</td><td>33.1</td><td>   0.0</td><td>3.2</td><td>   0.0</td><td>0</td><td>1</td></tr>\n",
              "\t<tr><td>1</td><td>1</td><td>1</td><td>2000</td><td>34328</td><td>31.9</td><td> 835.2</td><td>3.4</td><td>   0.0</td><td>0</td><td>1</td></tr>\n",
              "\t<tr><td>1</td><td>1</td><td>1</td><td>2000</td><td>34331</td><td>32.8</td><td>   0.0</td><td>3.1</td><td>   0.0</td><td>0</td><td>1</td></tr>\n",
              "\t<tr><td>1</td><td>1</td><td>1</td><td>2000</td><td>34334</td><td>33.1</td><td>   0.0</td><td>3.2</td><td>   0.0</td><td>0</td><td>1</td></tr>\n",
              "\t<tr><td>1</td><td>1</td><td>1</td><td>2005</td><td>31609</td><td> 5.0</td><td>  51.5</td><td>0.0</td><td>  11.1</td><td>0</td><td>1</td></tr>\n",
              "\t<tr><td>1</td><td>1</td><td>1</td><td>2005</td><td>31997</td><td> 0.0</td><td>  51.5</td><td>0.0</td><td>   0.3</td><td>0</td><td>1</td></tr>\n",
              "\t<tr><td>1</td><td>1</td><td>1</td><td>2005</td><td>32000</td><td>10.0</td><td>  51.5</td><td>0.0</td><td>  11.1</td><td>0</td><td>1</td></tr>\n",
              "\t<tr><td>1</td><td>1</td><td>1</td><td>2005</td><td>32003</td><td> 7.7</td><td>  51.5</td><td>0.0</td><td>  11.1</td><td>0</td><td>1</td></tr>\n",
              "\t<tr><td>1</td><td>1</td><td>1</td><td>2005</td><td>32385</td><td> 0.0</td><td>  51.5</td><td>0.0</td><td>2954.5</td><td>0</td><td>1</td></tr>\n",
              "\t<tr><td>1</td><td>1</td><td>1</td><td>2005</td><td>32388</td><td>50.2</td><td>  51.5</td><td>0.0</td><td>1122.8</td><td>0</td><td>1</td></tr>\n",
              "\t<tr><td>1</td><td>1</td><td>1</td><td>2005</td><td>32391</td><td> 1.1</td><td>  51.5</td><td>0.0</td><td>  11.1</td><td>0</td><td>1</td></tr>\n",
              "\t<tr><td>1</td><td>1</td><td>1</td><td>2005</td><td>32776</td><td> 0.0</td><td>5037.2</td><td>0.0</td><td> 460.4</td><td>0</td><td>1</td></tr>\n",
              "\t<tr><td>⋮</td><td>⋮</td><td>⋮</td><td>⋮</td><td>⋮</td><td>⋮</td><td>⋮</td><td>⋮</td><td>⋮</td><td>⋮</td><td>⋮</td></tr>\n",
              "\t<tr><td>35</td><td>640</td><td>5924</td><td>2010</td><td>117156</td><td>   NA</td><td>    NA</td><td>   NA</td><td>NA</td><td>0</td><td>5964</td></tr>\n",
              "\t<tr><td>35</td><td>640</td><td>5924</td><td>2010</td><td>117157</td><td>   NA</td><td>    NA</td><td>   NA</td><td>NA</td><td>0</td><td>5964</td></tr>\n",
              "\t<tr><td>35</td><td>640</td><td>5924</td><td>2010</td><td>117542</td><td>   NA</td><td>    NA</td><td>   NA</td><td>NA</td><td>0</td><td>5964</td></tr>\n",
              "\t<tr><td>35</td><td>640</td><td>5924</td><td>2010</td><td>117543</td><td>   NA</td><td>    NA</td><td>   NA</td><td>NA</td><td>0</td><td>5964</td></tr>\n",
              "\t<tr><td>35</td><td>640</td><td>5924</td><td>2010</td><td>117544</td><td>   NA</td><td>    NA</td><td>   NA</td><td>NA</td><td>0</td><td>5964</td></tr>\n",
              "\t<tr><td>35</td><td>640</td><td>5924</td><td>2010</td><td>117545</td><td>   NA</td><td>    NA</td><td>   NA</td><td>NA</td><td>0</td><td>5964</td></tr>\n",
              "\t<tr><td>35</td><td>640</td><td>5924</td><td>2010</td><td>117546</td><td>   NA</td><td>    NA</td><td>   NA</td><td>NA</td><td>0</td><td>5964</td></tr>\n",
              "\t<tr><td>35</td><td>640</td><td>5924</td><td>2010</td><td>117900</td><td>   NA</td><td>    NA</td><td>   NA</td><td>NA</td><td>0</td><td>5964</td></tr>\n",
              "\t<tr><td>35</td><td>640</td><td>5924</td><td>2010</td><td>117901</td><td>   NA</td><td>    NA</td><td>   NA</td><td>NA</td><td>0</td><td>5964</td></tr>\n",
              "\t<tr><td>35</td><td>640</td><td>5924</td><td>2010</td><td>117902</td><td>  0.0</td><td>2196.3</td><td>226.4</td><td> 0</td><td>0</td><td>5964</td></tr>\n",
              "\t<tr><td>35</td><td>640</td><td>5924</td><td>2010</td><td>117903</td><td>  0.0</td><td>  43.0</td><td> 24.9</td><td> 0</td><td>0</td><td>5964</td></tr>\n",
              "\t<tr><td>35</td><td>640</td><td>5924</td><td>2010</td><td>117904</td><td>   NA</td><td>    NA</td><td>   NA</td><td>NA</td><td>0</td><td>5964</td></tr>\n",
              "\t<tr><td>35</td><td>640</td><td>5924</td><td>2010</td><td>118320</td><td>   NA</td><td>    NA</td><td>   NA</td><td>NA</td><td>0</td><td>5964</td></tr>\n",
              "\t<tr><td>35</td><td>640</td><td>5924</td><td>2010</td><td>118321</td><td>   NA</td><td>    NA</td><td>   NA</td><td>NA</td><td>0</td><td>5964</td></tr>\n",
              "\t<tr><td>35</td><td>640</td><td>5924</td><td>2020</td><td>117154</td><td>   NA</td><td>    NA</td><td>   NA</td><td>NA</td><td>1</td><td>5964</td></tr>\n",
              "\t<tr><td>35</td><td>640</td><td>5924</td><td>2020</td><td>117155</td><td>   NA</td><td>    NA</td><td>   NA</td><td>NA</td><td>1</td><td>5964</td></tr>\n",
              "\t<tr><td>35</td><td>640</td><td>5924</td><td>2020</td><td>117156</td><td>   NA</td><td>    NA</td><td>   NA</td><td>NA</td><td>1</td><td>5964</td></tr>\n",
              "\t<tr><td>35</td><td>640</td><td>5924</td><td>2020</td><td>117157</td><td>   NA</td><td>    NA</td><td>   NA</td><td>NA</td><td>1</td><td>5964</td></tr>\n",
              "\t<tr><td>35</td><td>640</td><td>5924</td><td>2020</td><td>117542</td><td>   NA</td><td>    NA</td><td>   NA</td><td>NA</td><td>1</td><td>5964</td></tr>\n",
              "\t<tr><td>35</td><td>640</td><td>5924</td><td>2020</td><td>117543</td><td>   NA</td><td>    NA</td><td>   NA</td><td>NA</td><td>1</td><td>5964</td></tr>\n",
              "\t<tr><td>35</td><td>640</td><td>5924</td><td>2020</td><td>117544</td><td>   NA</td><td>    NA</td><td>   NA</td><td>NA</td><td>1</td><td>5964</td></tr>\n",
              "\t<tr><td>35</td><td>640</td><td>5924</td><td>2020</td><td>117545</td><td>   NA</td><td>    NA</td><td>   NA</td><td>NA</td><td>1</td><td>5964</td></tr>\n",
              "\t<tr><td>35</td><td>640</td><td>5924</td><td>2020</td><td>117546</td><td>   NA</td><td>    NA</td><td>   NA</td><td>NA</td><td>1</td><td>5964</td></tr>\n",
              "\t<tr><td>35</td><td>640</td><td>5924</td><td>2020</td><td>117900</td><td>   NA</td><td>    NA</td><td>   NA</td><td>NA</td><td>1</td><td>5964</td></tr>\n",
              "\t<tr><td>35</td><td>640</td><td>5924</td><td>2020</td><td>117901</td><td>   NA</td><td>    NA</td><td>   NA</td><td>NA</td><td>1</td><td>5964</td></tr>\n",
              "\t<tr><td>35</td><td>640</td><td>5924</td><td>2020</td><td>117902</td><td>144.1</td><td> 477.4</td><td>162.1</td><td>NA</td><td>1</td><td>5964</td></tr>\n",
              "\t<tr><td>35</td><td>640</td><td>5924</td><td>2020</td><td>117903</td><td>   NA</td><td>    NA</td><td>   NA</td><td>NA</td><td>1</td><td>5964</td></tr>\n",
              "\t<tr><td>35</td><td>640</td><td>5924</td><td>2020</td><td>117904</td><td>   NA</td><td>    NA</td><td>   NA</td><td>NA</td><td>1</td><td>5964</td></tr>\n",
              "\t<tr><td>35</td><td>640</td><td>5924</td><td>2020</td><td>118320</td><td>   NA</td><td>    NA</td><td>   NA</td><td>NA</td><td>1</td><td>5964</td></tr>\n",
              "\t<tr><td>35</td><td>640</td><td>5924</td><td>2020</td><td>118321</td><td>   NA</td><td>    NA</td><td>   NA</td><td>NA</td><td>1</td><td>5964</td></tr>\n",
              "</tbody>\n",
              "</table>\n"
            ],
            "text/markdown": "\nA data.table: 158524 × 11\n\n| pc11_s_id &lt;int&gt; | pc11_d_id &lt;int&gt; | pc11_sd_id &lt;int&gt; | year &lt;int&gt; | voronoi_id &lt;int&gt; | pota &lt;dbl&gt; | rice &lt;dbl&gt; | sugc &lt;dbl&gt; | whea &lt;dbl&gt; | post_ror_data_entry &lt;int&gt; | subdistrict_id &lt;int&gt; |\n|---|---|---|---|---|---|---|---|---|---|---|\n| 1 | 1 | 1 | 2000 | 31609 | 10.5 |   13.0 | 2.8 |    0.0 | 0 | 1 |\n| 1 | 1 | 1 | 2000 | 31997 | 24.1 |    0.0 | 5.7 |    0.0 | 0 | 1 |\n| 1 | 1 | 1 | 2000 | 32000 | 15.8 |    0.0 | 1.9 |    0.0 | 0 | 1 |\n| 1 | 1 | 1 | 2000 | 32003 | 11.4 |    0.0 | 1.8 |    0.0 | 0 | 1 |\n| 1 | 1 | 1 | 2000 | 32385 | 51.7 |  144.0 | 8.9 |    0.0 | 0 | 1 |\n| 1 | 1 | 1 | 2000 | 32388 |  1.4 |  479.2 | 0.0 |    0.0 | 0 | 1 |\n| 1 | 1 | 1 | 2000 | 32391 | 14.5 |    0.0 | 1.6 |    0.0 | 0 | 1 |\n| 1 | 1 | 1 | 2000 | 32776 | 33.4 |  498.8 | 3.3 |    0.0 | 0 | 1 |\n| 1 | 1 | 1 | 2000 | 32779 |   NA |     NA |  NA |     NA | 0 | 1 |\n| 1 | 1 | 1 | 2000 | 33164 | 23.4 | 2022.1 | 3.6 |   74.3 | 0 | 1 |\n| 1 | 1 | 1 | 2000 | 33167 | 23.2 |   12.2 | 3.1 |    0.0 | 0 | 1 |\n| 1 | 1 | 1 | 2000 | 33170 | 14.4 |    0.0 | 1.6 |    0.0 | 0 | 1 |\n| 1 | 1 | 1 | 2000 | 33552 | 33.0 | 1054.2 | 3.1 |    0.0 | 0 | 1 |\n| 1 | 1 | 1 | 2000 | 33555 | 31.8 |   12.2 | 3.2 |    0.0 | 0 | 1 |\n| 1 | 1 | 1 | 2000 | 33558 | 23.1 |    0.0 | 3.1 |    0.0 | 0 | 1 |\n| 1 | 1 | 1 | 2000 | 33937 | 58.1 |  486.2 | 8.5 |    4.7 | 0 | 1 |\n| 1 | 1 | 1 | 2000 | 33940 | 92.6 | 1378.3 | 3.4 |   13.3 | 0 | 1 |\n| 1 | 1 | 1 | 2000 | 33943 | 32.8 |    0.0 | 3.1 |    0.0 | 0 | 1 |\n| 1 | 1 | 1 | 2000 | 33946 | 33.1 |    0.0 | 3.2 |    0.0 | 0 | 1 |\n| 1 | 1 | 1 | 2000 | 34328 | 31.9 |  835.2 | 3.4 |    0.0 | 0 | 1 |\n| 1 | 1 | 1 | 2000 | 34331 | 32.8 |    0.0 | 3.1 |    0.0 | 0 | 1 |\n| 1 | 1 | 1 | 2000 | 34334 | 33.1 |    0.0 | 3.2 |    0.0 | 0 | 1 |\n| 1 | 1 | 1 | 2005 | 31609 |  5.0 |   51.5 | 0.0 |   11.1 | 0 | 1 |\n| 1 | 1 | 1 | 2005 | 31997 |  0.0 |   51.5 | 0.0 |    0.3 | 0 | 1 |\n| 1 | 1 | 1 | 2005 | 32000 | 10.0 |   51.5 | 0.0 |   11.1 | 0 | 1 |\n| 1 | 1 | 1 | 2005 | 32003 |  7.7 |   51.5 | 0.0 |   11.1 | 0 | 1 |\n| 1 | 1 | 1 | 2005 | 32385 |  0.0 |   51.5 | 0.0 | 2954.5 | 0 | 1 |\n| 1 | 1 | 1 | 2005 | 32388 | 50.2 |   51.5 | 0.0 | 1122.8 | 0 | 1 |\n| 1 | 1 | 1 | 2005 | 32391 |  1.1 |   51.5 | 0.0 |   11.1 | 0 | 1 |\n| 1 | 1 | 1 | 2005 | 32776 |  0.0 | 5037.2 | 0.0 |  460.4 | 0 | 1 |\n| ⋮ | ⋮ | ⋮ | ⋮ | ⋮ | ⋮ | ⋮ | ⋮ | ⋮ | ⋮ | ⋮ |\n| 35 | 640 | 5924 | 2010 | 117156 |    NA |     NA |    NA | NA | 0 | 5964 |\n| 35 | 640 | 5924 | 2010 | 117157 |    NA |     NA |    NA | NA | 0 | 5964 |\n| 35 | 640 | 5924 | 2010 | 117542 |    NA |     NA |    NA | NA | 0 | 5964 |\n| 35 | 640 | 5924 | 2010 | 117543 |    NA |     NA |    NA | NA | 0 | 5964 |\n| 35 | 640 | 5924 | 2010 | 117544 |    NA |     NA |    NA | NA | 0 | 5964 |\n| 35 | 640 | 5924 | 2010 | 117545 |    NA |     NA |    NA | NA | 0 | 5964 |\n| 35 | 640 | 5924 | 2010 | 117546 |    NA |     NA |    NA | NA | 0 | 5964 |\n| 35 | 640 | 5924 | 2010 | 117900 |    NA |     NA |    NA | NA | 0 | 5964 |\n| 35 | 640 | 5924 | 2010 | 117901 |    NA |     NA |    NA | NA | 0 | 5964 |\n| 35 | 640 | 5924 | 2010 | 117902 |   0.0 | 2196.3 | 226.4 |  0 | 0 | 5964 |\n| 35 | 640 | 5924 | 2010 | 117903 |   0.0 |   43.0 |  24.9 |  0 | 0 | 5964 |\n| 35 | 640 | 5924 | 2010 | 117904 |    NA |     NA |    NA | NA | 0 | 5964 |\n| 35 | 640 | 5924 | 2010 | 118320 |    NA |     NA |    NA | NA | 0 | 5964 |\n| 35 | 640 | 5924 | 2010 | 118321 |    NA |     NA |    NA | NA | 0 | 5964 |\n| 35 | 640 | 5924 | 2020 | 117154 |    NA |     NA |    NA | NA | 1 | 5964 |\n| 35 | 640 | 5924 | 2020 | 117155 |    NA |     NA |    NA | NA | 1 | 5964 |\n| 35 | 640 | 5924 | 2020 | 117156 |    NA |     NA |    NA | NA | 1 | 5964 |\n| 35 | 640 | 5924 | 2020 | 117157 |    NA |     NA |    NA | NA | 1 | 5964 |\n| 35 | 640 | 5924 | 2020 | 117542 |    NA |     NA |    NA | NA | 1 | 5964 |\n| 35 | 640 | 5924 | 2020 | 117543 |    NA |     NA |    NA | NA | 1 | 5964 |\n| 35 | 640 | 5924 | 2020 | 117544 |    NA |     NA |    NA | NA | 1 | 5964 |\n| 35 | 640 | 5924 | 2020 | 117545 |    NA |     NA |    NA | NA | 1 | 5964 |\n| 35 | 640 | 5924 | 2020 | 117546 |    NA |     NA |    NA | NA | 1 | 5964 |\n| 35 | 640 | 5924 | 2020 | 117900 |    NA |     NA |    NA | NA | 1 | 5964 |\n| 35 | 640 | 5924 | 2020 | 117901 |    NA |     NA |    NA | NA | 1 | 5964 |\n| 35 | 640 | 5924 | 2020 | 117902 | 144.1 |  477.4 | 162.1 | NA | 1 | 5964 |\n| 35 | 640 | 5924 | 2020 | 117903 |    NA |     NA |    NA | NA | 1 | 5964 |\n| 35 | 640 | 5924 | 2020 | 117904 |    NA |     NA |    NA | NA | 1 | 5964 |\n| 35 | 640 | 5924 | 2020 | 118320 |    NA |     NA |    NA | NA | 1 | 5964 |\n| 35 | 640 | 5924 | 2020 | 118321 |    NA |     NA |    NA | NA | 1 | 5964 |\n\n",
            "text/latex": "A data.table: 158524 × 11\n\\begin{tabular}{lllllllllll}\n pc11\\_s\\_id & pc11\\_d\\_id & pc11\\_sd\\_id & year & voronoi\\_id & pota & rice & sugc & whea & post\\_ror\\_data\\_entry & subdistrict\\_id\\\\\n <int> & <int> & <int> & <int> & <int> & <dbl> & <dbl> & <dbl> & <dbl> & <int> & <int>\\\\\n\\hline\n\t 1 & 1 & 1 & 2000 & 31609 & 10.5 &   13.0 & 2.8 &    0.0 & 0 & 1\\\\\n\t 1 & 1 & 1 & 2000 & 31997 & 24.1 &    0.0 & 5.7 &    0.0 & 0 & 1\\\\\n\t 1 & 1 & 1 & 2000 & 32000 & 15.8 &    0.0 & 1.9 &    0.0 & 0 & 1\\\\\n\t 1 & 1 & 1 & 2000 & 32003 & 11.4 &    0.0 & 1.8 &    0.0 & 0 & 1\\\\\n\t 1 & 1 & 1 & 2000 & 32385 & 51.7 &  144.0 & 8.9 &    0.0 & 0 & 1\\\\\n\t 1 & 1 & 1 & 2000 & 32388 &  1.4 &  479.2 & 0.0 &    0.0 & 0 & 1\\\\\n\t 1 & 1 & 1 & 2000 & 32391 & 14.5 &    0.0 & 1.6 &    0.0 & 0 & 1\\\\\n\t 1 & 1 & 1 & 2000 & 32776 & 33.4 &  498.8 & 3.3 &    0.0 & 0 & 1\\\\\n\t 1 & 1 & 1 & 2000 & 32779 &   NA &     NA &  NA &     NA & 0 & 1\\\\\n\t 1 & 1 & 1 & 2000 & 33164 & 23.4 & 2022.1 & 3.6 &   74.3 & 0 & 1\\\\\n\t 1 & 1 & 1 & 2000 & 33167 & 23.2 &   12.2 & 3.1 &    0.0 & 0 & 1\\\\\n\t 1 & 1 & 1 & 2000 & 33170 & 14.4 &    0.0 & 1.6 &    0.0 & 0 & 1\\\\\n\t 1 & 1 & 1 & 2000 & 33552 & 33.0 & 1054.2 & 3.1 &    0.0 & 0 & 1\\\\\n\t 1 & 1 & 1 & 2000 & 33555 & 31.8 &   12.2 & 3.2 &    0.0 & 0 & 1\\\\\n\t 1 & 1 & 1 & 2000 & 33558 & 23.1 &    0.0 & 3.1 &    0.0 & 0 & 1\\\\\n\t 1 & 1 & 1 & 2000 & 33937 & 58.1 &  486.2 & 8.5 &    4.7 & 0 & 1\\\\\n\t 1 & 1 & 1 & 2000 & 33940 & 92.6 & 1378.3 & 3.4 &   13.3 & 0 & 1\\\\\n\t 1 & 1 & 1 & 2000 & 33943 & 32.8 &    0.0 & 3.1 &    0.0 & 0 & 1\\\\\n\t 1 & 1 & 1 & 2000 & 33946 & 33.1 &    0.0 & 3.2 &    0.0 & 0 & 1\\\\\n\t 1 & 1 & 1 & 2000 & 34328 & 31.9 &  835.2 & 3.4 &    0.0 & 0 & 1\\\\\n\t 1 & 1 & 1 & 2000 & 34331 & 32.8 &    0.0 & 3.1 &    0.0 & 0 & 1\\\\\n\t 1 & 1 & 1 & 2000 & 34334 & 33.1 &    0.0 & 3.2 &    0.0 & 0 & 1\\\\\n\t 1 & 1 & 1 & 2005 & 31609 &  5.0 &   51.5 & 0.0 &   11.1 & 0 & 1\\\\\n\t 1 & 1 & 1 & 2005 & 31997 &  0.0 &   51.5 & 0.0 &    0.3 & 0 & 1\\\\\n\t 1 & 1 & 1 & 2005 & 32000 & 10.0 &   51.5 & 0.0 &   11.1 & 0 & 1\\\\\n\t 1 & 1 & 1 & 2005 & 32003 &  7.7 &   51.5 & 0.0 &   11.1 & 0 & 1\\\\\n\t 1 & 1 & 1 & 2005 & 32385 &  0.0 &   51.5 & 0.0 & 2954.5 & 0 & 1\\\\\n\t 1 & 1 & 1 & 2005 & 32388 & 50.2 &   51.5 & 0.0 & 1122.8 & 0 & 1\\\\\n\t 1 & 1 & 1 & 2005 & 32391 &  1.1 &   51.5 & 0.0 &   11.1 & 0 & 1\\\\\n\t 1 & 1 & 1 & 2005 & 32776 &  0.0 & 5037.2 & 0.0 &  460.4 & 0 & 1\\\\\n\t ⋮ & ⋮ & ⋮ & ⋮ & ⋮ & ⋮ & ⋮ & ⋮ & ⋮ & ⋮ & ⋮\\\\\n\t 35 & 640 & 5924 & 2010 & 117156 &    NA &     NA &    NA & NA & 0 & 5964\\\\\n\t 35 & 640 & 5924 & 2010 & 117157 &    NA &     NA &    NA & NA & 0 & 5964\\\\\n\t 35 & 640 & 5924 & 2010 & 117542 &    NA &     NA &    NA & NA & 0 & 5964\\\\\n\t 35 & 640 & 5924 & 2010 & 117543 &    NA &     NA &    NA & NA & 0 & 5964\\\\\n\t 35 & 640 & 5924 & 2010 & 117544 &    NA &     NA &    NA & NA & 0 & 5964\\\\\n\t 35 & 640 & 5924 & 2010 & 117545 &    NA &     NA &    NA & NA & 0 & 5964\\\\\n\t 35 & 640 & 5924 & 2010 & 117546 &    NA &     NA &    NA & NA & 0 & 5964\\\\\n\t 35 & 640 & 5924 & 2010 & 117900 &    NA &     NA &    NA & NA & 0 & 5964\\\\\n\t 35 & 640 & 5924 & 2010 & 117901 &    NA &     NA &    NA & NA & 0 & 5964\\\\\n\t 35 & 640 & 5924 & 2010 & 117902 &   0.0 & 2196.3 & 226.4 &  0 & 0 & 5964\\\\\n\t 35 & 640 & 5924 & 2010 & 117903 &   0.0 &   43.0 &  24.9 &  0 & 0 & 5964\\\\\n\t 35 & 640 & 5924 & 2010 & 117904 &    NA &     NA &    NA & NA & 0 & 5964\\\\\n\t 35 & 640 & 5924 & 2010 & 118320 &    NA &     NA &    NA & NA & 0 & 5964\\\\\n\t 35 & 640 & 5924 & 2010 & 118321 &    NA &     NA &    NA & NA & 0 & 5964\\\\\n\t 35 & 640 & 5924 & 2020 & 117154 &    NA &     NA &    NA & NA & 1 & 5964\\\\\n\t 35 & 640 & 5924 & 2020 & 117155 &    NA &     NA &    NA & NA & 1 & 5964\\\\\n\t 35 & 640 & 5924 & 2020 & 117156 &    NA &     NA &    NA & NA & 1 & 5964\\\\\n\t 35 & 640 & 5924 & 2020 & 117157 &    NA &     NA &    NA & NA & 1 & 5964\\\\\n\t 35 & 640 & 5924 & 2020 & 117542 &    NA &     NA &    NA & NA & 1 & 5964\\\\\n\t 35 & 640 & 5924 & 2020 & 117543 &    NA &     NA &    NA & NA & 1 & 5964\\\\\n\t 35 & 640 & 5924 & 2020 & 117544 &    NA &     NA &    NA & NA & 1 & 5964\\\\\n\t 35 & 640 & 5924 & 2020 & 117545 &    NA &     NA &    NA & NA & 1 & 5964\\\\\n\t 35 & 640 & 5924 & 2020 & 117546 &    NA &     NA &    NA & NA & 1 & 5964\\\\\n\t 35 & 640 & 5924 & 2020 & 117900 &    NA &     NA &    NA & NA & 1 & 5964\\\\\n\t 35 & 640 & 5924 & 2020 & 117901 &    NA &     NA &    NA & NA & 1 & 5964\\\\\n\t 35 & 640 & 5924 & 2020 & 117902 & 144.1 &  477.4 & 162.1 & NA & 1 & 5964\\\\\n\t 35 & 640 & 5924 & 2020 & 117903 &    NA &     NA &    NA & NA & 1 & 5964\\\\\n\t 35 & 640 & 5924 & 2020 & 117904 &    NA &     NA &    NA & NA & 1 & 5964\\\\\n\t 35 & 640 & 5924 & 2020 & 118320 &    NA &     NA &    NA & NA & 1 & 5964\\\\\n\t 35 & 640 & 5924 & 2020 & 118321 &    NA &     NA &    NA & NA & 1 & 5964\\\\\n\\end{tabular}\n",
            "text/plain": [
              "       pc11_s_id pc11_d_id pc11_sd_id year voronoi_id pota  rice   sugc  whea  \n",
              "1      1         1         1          2000 31609      10.5    13.0 2.8      0.0\n",
              "2      1         1         1          2000 31997      24.1     0.0 5.7      0.0\n",
              "3      1         1         1          2000 32000      15.8     0.0 1.9      0.0\n",
              "4      1         1         1          2000 32003      11.4     0.0 1.8      0.0\n",
              "5      1         1         1          2000 32385      51.7   144.0 8.9      0.0\n",
              "6      1         1         1          2000 32388       1.4   479.2 0.0      0.0\n",
              "7      1         1         1          2000 32391      14.5     0.0 1.6      0.0\n",
              "8      1         1         1          2000 32776      33.4   498.8 3.3      0.0\n",
              "9      1         1         1          2000 32779        NA      NA  NA       NA\n",
              "10     1         1         1          2000 33164      23.4  2022.1 3.6     74.3\n",
              "11     1         1         1          2000 33167      23.2    12.2 3.1      0.0\n",
              "12     1         1         1          2000 33170      14.4     0.0 1.6      0.0\n",
              "13     1         1         1          2000 33552      33.0  1054.2 3.1      0.0\n",
              "14     1         1         1          2000 33555      31.8    12.2 3.2      0.0\n",
              "15     1         1         1          2000 33558      23.1     0.0 3.1      0.0\n",
              "16     1         1         1          2000 33937      58.1   486.2 8.5      4.7\n",
              "17     1         1         1          2000 33940      92.6  1378.3 3.4     13.3\n",
              "18     1         1         1          2000 33943      32.8     0.0 3.1      0.0\n",
              "19     1         1         1          2000 33946      33.1     0.0 3.2      0.0\n",
              "20     1         1         1          2000 34328      31.9   835.2 3.4      0.0\n",
              "21     1         1         1          2000 34331      32.8     0.0 3.1      0.0\n",
              "22     1         1         1          2000 34334      33.1     0.0 3.2      0.0\n",
              "23     1         1         1          2005 31609       5.0    51.5 0.0     11.1\n",
              "24     1         1         1          2005 31997       0.0    51.5 0.0      0.3\n",
              "25     1         1         1          2005 32000      10.0    51.5 0.0     11.1\n",
              "26     1         1         1          2005 32003       7.7    51.5 0.0     11.1\n",
              "27     1         1         1          2005 32385       0.0    51.5 0.0   2954.5\n",
              "28     1         1         1          2005 32388      50.2    51.5 0.0   1122.8\n",
              "29     1         1         1          2005 32391       1.1    51.5 0.0     11.1\n",
              "30     1         1         1          2005 32776       0.0  5037.2 0.0    460.4\n",
              "⋮      ⋮         ⋮         ⋮          ⋮    ⋮          ⋮     ⋮      ⋮     ⋮     \n",
              "158495 35        640       5924       2010 117156        NA     NA    NA NA    \n",
              "158496 35        640       5924       2010 117157        NA     NA    NA NA    \n",
              "158497 35        640       5924       2010 117542        NA     NA    NA NA    \n",
              "158498 35        640       5924       2010 117543        NA     NA    NA NA    \n",
              "158499 35        640       5924       2010 117544        NA     NA    NA NA    \n",
              "158500 35        640       5924       2010 117545        NA     NA    NA NA    \n",
              "158501 35        640       5924       2010 117546        NA     NA    NA NA    \n",
              "158502 35        640       5924       2010 117900        NA     NA    NA NA    \n",
              "158503 35        640       5924       2010 117901        NA     NA    NA NA    \n",
              "158504 35        640       5924       2010 117902       0.0 2196.3 226.4  0    \n",
              "158505 35        640       5924       2010 117903       0.0   43.0  24.9  0    \n",
              "158506 35        640       5924       2010 117904        NA     NA    NA NA    \n",
              "158507 35        640       5924       2010 118320        NA     NA    NA NA    \n",
              "158508 35        640       5924       2010 118321        NA     NA    NA NA    \n",
              "158509 35        640       5924       2020 117154        NA     NA    NA NA    \n",
              "158510 35        640       5924       2020 117155        NA     NA    NA NA    \n",
              "158511 35        640       5924       2020 117156        NA     NA    NA NA    \n",
              "158512 35        640       5924       2020 117157        NA     NA    NA NA    \n",
              "158513 35        640       5924       2020 117542        NA     NA    NA NA    \n",
              "158514 35        640       5924       2020 117543        NA     NA    NA NA    \n",
              "158515 35        640       5924       2020 117544        NA     NA    NA NA    \n",
              "158516 35        640       5924       2020 117545        NA     NA    NA NA    \n",
              "158517 35        640       5924       2020 117546        NA     NA    NA NA    \n",
              "158518 35        640       5924       2020 117900        NA     NA    NA NA    \n",
              "158519 35        640       5924       2020 117901        NA     NA    NA NA    \n",
              "158520 35        640       5924       2020 117902     144.1  477.4 162.1 NA    \n",
              "158521 35        640       5924       2020 117903        NA     NA    NA NA    \n",
              "158522 35        640       5924       2020 117904        NA     NA    NA NA    \n",
              "158523 35        640       5924       2020 118320        NA     NA    NA NA    \n",
              "158524 35        640       5924       2020 118321        NA     NA    NA NA    \n",
              "       post_ror_data_entry subdistrict_id\n",
              "1      0                   1             \n",
              "2      0                   1             \n",
              "3      0                   1             \n",
              "4      0                   1             \n",
              "5      0                   1             \n",
              "6      0                   1             \n",
              "7      0                   1             \n",
              "8      0                   1             \n",
              "9      0                   1             \n",
              "10     0                   1             \n",
              "11     0                   1             \n",
              "12     0                   1             \n",
              "13     0                   1             \n",
              "14     0                   1             \n",
              "15     0                   1             \n",
              "16     0                   1             \n",
              "17     0                   1             \n",
              "18     0                   1             \n",
              "19     0                   1             \n",
              "20     0                   1             \n",
              "21     0                   1             \n",
              "22     0                   1             \n",
              "23     0                   1             \n",
              "24     0                   1             \n",
              "25     0                   1             \n",
              "26     0                   1             \n",
              "27     0                   1             \n",
              "28     0                   1             \n",
              "29     0                   1             \n",
              "30     0                   1             \n",
              "⋮      ⋮                   ⋮             \n",
              "158495 0                   5964          \n",
              "158496 0                   5964          \n",
              "158497 0                   5964          \n",
              "158498 0                   5964          \n",
              "158499 0                   5964          \n",
              "158500 0                   5964          \n",
              "158501 0                   5964          \n",
              "158502 0                   5964          \n",
              "158503 0                   5964          \n",
              "158504 0                   5964          \n",
              "158505 0                   5964          \n",
              "158506 0                   5964          \n",
              "158507 0                   5964          \n",
              "158508 0                   5964          \n",
              "158509 1                   5964          \n",
              "158510 1                   5964          \n",
              "158511 1                   5964          \n",
              "158512 1                   5964          \n",
              "158513 1                   5964          \n",
              "158514 1                   5964          \n",
              "158515 1                   5964          \n",
              "158516 1                   5964          \n",
              "158517 1                   5964          \n",
              "158518 1                   5964          \n",
              "158519 1                   5964          \n",
              "158520 1                   5964          \n",
              "158521 1                   5964          \n",
              "158522 1                   5964          \n",
              "158523 1                   5964          \n",
              "158524 1                   5964          "
            ]
          },
          "metadata": {}
        }
      ]
    },
    {
      "cell_type": "code",
      "source": [
        "year_post_ror_data_entry = 2020"
      ],
      "metadata": {
        "id": "DRKaqw-biEQ7"
      },
      "execution_count": 7,
      "outputs": []
    },
    {
      "cell_type": "code",
      "source": [
        "# Assuming df.pt is already a data.table\n",
        "max_treat <- df1[, .(treat = max(post_ror_data_entry, na.rm = TRUE)),\n",
        "                   by = voronoi_id]\n",
        "df1 <- merge(df1, max_treat, by = \"voronoi_id\", all.x = TRUE)\n",
        "names(df1)\n",
        "df1[, event_time := year - year_post_ror_data_entry]\n",
        "\n",
        "df1$post <- 0\n",
        "df1[event_time>=0,]$post <- 1"
      ],
      "metadata": {
        "id": "QuMIgb-_h6WL",
        "outputId": "776a4ee8-45ee-4b6a-99aa-505865d15fd3",
        "colab": {
          "base_uri": "https://localhost:8080/",
          "height": 34
        }
      },
      "execution_count": 8,
      "outputs": [
        {
          "output_type": "display_data",
          "data": {
            "text/html": [
              "<style>\n",
              ".list-inline {list-style: none; margin:0; padding: 0}\n",
              ".list-inline>li {display: inline-block}\n",
              ".list-inline>li:not(:last-child)::after {content: \"\\00b7\"; padding: 0 .5ex}\n",
              "</style>\n",
              "<ol class=list-inline><li>'voronoi_id'</li><li>'pc11_s_id'</li><li>'pc11_d_id'</li><li>'pc11_sd_id'</li><li>'year'</li><li>'pota'</li><li>'rice'</li><li>'sugc'</li><li>'whea'</li><li>'post_ror_data_entry'</li><li>'subdistrict_id'</li><li>'treat'</li></ol>\n"
            ],
            "text/markdown": "1. 'voronoi_id'\n2. 'pc11_s_id'\n3. 'pc11_d_id'\n4. 'pc11_sd_id'\n5. 'year'\n6. 'pota'\n7. 'rice'\n8. 'sugc'\n9. 'whea'\n10. 'post_ror_data_entry'\n11. 'subdistrict_id'\n12. 'treat'\n\n\n",
            "text/latex": "\\begin{enumerate*}\n\\item 'voronoi\\_id'\n\\item 'pc11\\_s\\_id'\n\\item 'pc11\\_d\\_id'\n\\item 'pc11\\_sd\\_id'\n\\item 'year'\n\\item 'pota'\n\\item 'rice'\n\\item 'sugc'\n\\item 'whea'\n\\item 'post\\_ror\\_data\\_entry'\n\\item 'subdistrict\\_id'\n\\item 'treat'\n\\end{enumerate*}\n",
            "text/plain": [
              " [1] \"voronoi_id\"          \"pc11_s_id\"           \"pc11_d_id\"          \n",
              " [4] \"pc11_sd_id\"          \"year\"                \"pota\"               \n",
              " [7] \"rice\"                \"sugc\"                \"whea\"               \n",
              "[10] \"post_ror_data_entry\" \"subdistrict_id\"      \"treat\"              "
            ]
          },
          "metadata": {}
        }
      ]
    },
    {
      "cell_type": "code",
      "source": [
        "y1post <- mean(df1[ post == 1 & treat == 1, ]$rice, na.rm = TRUE)\n",
        "y0post <- mean(df1[ post == 1 & treat == 0, ]$rice, na.rm = TRUE)\n",
        "y1pre <- mean(df1[ post == 0 & treat == 1, ]$rice, na.rm = TRUE)\n",
        "y0pre <- mean(df1[ post == 0 & treat == 0, ]$rice, na.rm = TRUE)\n",
        "(y1post-y0post) - (y1pre-y0pre)\n"
      ],
      "metadata": {
        "id": "D3W_PzcDiKrL",
        "outputId": "267a4458-865b-4c1b-b5a2-29f8f4547a84",
        "colab": {
          "base_uri": "https://localhost:8080/",
          "height": 34
        }
      },
      "execution_count": 9,
      "outputs": [
        {
          "output_type": "display_data",
          "data": {
            "text/html": [
              "1398.45355182215"
            ],
            "text/markdown": "1398.45355182215",
            "text/latex": "1398.45355182215",
            "text/plain": [
              "[1] 1398.454"
            ]
          },
          "metadata": {}
        }
      ]
    },
    {
      "cell_type": "code",
      "source": [
        "feols(rice ~ post + treat + i(post, treat, ref = 0 ), data = df1)"
      ],
      "metadata": {
        "id": "MxDS_Zp1iNKn",
        "outputId": "026cee7f-98d4-4110-cc68-5b057ea4e5d6",
        "colab": {
          "base_uri": "https://localhost:8080/",
          "height": 252
        }
      },
      "execution_count": 10,
      "outputs": [
        {
          "output_type": "stream",
          "name": "stderr",
          "text": [
            "NOTE: 20,850 observations removed because of NA values (LHS: 20,850).\n",
            "\n"
          ]
        },
        {
          "output_type": "display_data",
          "data": {
            "text/plain": [
              "OLS estimation, Dep. Var.: rice\n",
              "Observations: 137,674\n",
              "Standard-errors: IID \n",
              "              Estimate Std. Error  t value  Pr(>|t|)    \n",
              "(Intercept)    1353.91    80.6313 16.79142 < 2.2e-16 ***\n",
              "post           1993.33   175.8350 11.33635 < 2.2e-16 ***\n",
              "treat          2204.44    84.4205 26.11258 < 2.2e-16 ***\n",
              "post::1:treat  1398.45   184.2650  7.58936 3.235e-14 ***\n",
              "---\n",
              "Signif. codes:  0 '***' 0.001 '**' 0.01 '*' 0.05 '.' 0.1 ' ' 1\n",
              "RMSE: 7,895.2   Adj. R2: 0.03512"
            ]
          },
          "metadata": {}
        }
      ]
    },
    {
      "cell_type": "code",
      "source": [
        "# List of outcome variables\n",
        "outcomes <- c(\"pota\", \"rice\", \"sugc\", \"whea\")\n",
        "did_models <- list()\n",
        "for (v in outcomes) {\n",
        "  # Drop units with NA in the outcome\n",
        "  na_ids <- df1[is.na(get(v)), unique(voronoi_id)]\n",
        "  df.pt <- df1[!voronoi_id %in% na_ids]\n",
        "\n",
        "  # Estimate DiD model\n",
        "  fml <- as.formula(paste0(v, \" ~ post_ror_data_entry | voronoi_id + year\"))\n",
        "  did_models[[v]] <- feols(fml, data = df.pt, , cluster = ~subdistrict_id)\n",
        "}\n"
      ],
      "metadata": {
        "id": "LVxOYhdoi2w4"
      },
      "execution_count": 12,
      "outputs": []
    },
    {
      "cell_type": "code",
      "source": [
        "# %% export\n",
        "treatmap =c(\n",
        "  # GFC\n",
        "  \"rice\"  = \"Rice\",\n",
        "  \"sugc\"  = \"Sugar Cane\",\n",
        "  \"pota\"  = \"Potatos\",\n",
        "  \"whea\"  = \"Wheat\",\n",
        "  \"voronoi_id\"       = \"Pixel\",\n",
        "  \"year\"    = \"Year\",\n",
        "  \"post_ror_data_entry\" = \"Treatment\"\n",
        ")\n",
        "# %%\n",
        "desc = \"Main Especification For Cash Crops\"\n",
        "fn = \"regs_all_main\"; lab = \"tab:cash_crop\";\n",
        "controls_pre1 <- c( mean(df1[treat==0 & year < 2020]$pota, na.rm = TRUE),\n",
        "                    mean(df1[treat==0 & year < 2020]$rice, na.rm = TRUE),\n",
        "                    mean(df1[treat==0 & year < 2020]$sugc, na.rm = TRUE),\n",
        "                    mean(df1[treat==0 & year < 2020]$whea, na.rm = TRUE))\n",
        "# %%\n",
        "etable(did_models,\n",
        "       style.tex = style.tex(main = \"base\", depvar.title = \"\", model.title = \"\",\n",
        "                             yesNo = c(\"$\\\\checkmark$\", \"\")),\n",
        "       signif.code = NA,\n",
        "       fixef_sizes = T, fixef_sizes.simplify = F,\n",
        "       fitstat = ~ n, tex = TRUE,\n",
        "       keep = c(\"%post_ror_data_entry\"),\n",
        "       dict = treatmap,\n",
        "       label = lab,\n",
        "       title = desc,\n",
        "       notes = \"\",\n",
        "       extralines=list(\n",
        "         \"\\\\hline Mean Y0\"=controls_pre1\n",
        "       ),\n",
        "       file = \"main_did.tex\", replace = TRUE)\n",
        "\n"
      ],
      "metadata": {
        "id": "uQ-a4mmuj5rG"
      },
      "execution_count": 13,
      "outputs": []
    },
    {
      "cell_type": "code",
      "source": [
        "event_model <- feols(rice ~ i(event_time, treat, ref = -10) | voronoi_id + year,\n",
        "                     data = df1)\n",
        "p1 <- ggiplot(event_model)\n",
        "p1"
      ],
      "metadata": {
        "id": "qdxD35_BlFT3",
        "outputId": "08118fd1-b84b-4535-d4a9-8c348f8cf42d",
        "colab": {
          "base_uri": "https://localhost:8080/",
          "height": 473
        }
      },
      "execution_count": 14,
      "outputs": [
        {
          "output_type": "stream",
          "name": "stderr",
          "text": [
            "NOTE: 20,850 observations removed because of NA values (LHS: 20,850).\n",
            "\n"
          ]
        },
        {
          "output_type": "display_data",
          "data": {
            "text/plain": [
              "plot without title"
            ],
            "image/png": "[encoded data removed]"
          },
          "metadata": {
            "image/png": {
              "width": 420,
              "height": 420
            }
          }
        }
      ]
    },
    {
      "cell_type": "code",
      "source": [
        "event_model <- feols(rice ~ i(event_time, treat, ref = -10) | voronoi_id + pc11_s_id^year,\n",
        "                     data = df1)\n",
        "p1 <- ggiplot(event_model)\n",
        "p1"
      ],
      "metadata": {
        "id": "kFh47_LjlkLE",
        "outputId": "6e1c9f97-93cd-4026-f1e0-b61d3e81e446",
        "colab": {
          "base_uri": "https://localhost:8080/",
          "height": 473
        }
      },
      "execution_count": 15,
      "outputs": [
        {
          "output_type": "stream",
          "name": "stderr",
          "text": [
            "NOTE: 20,850 observations removed because of NA values (LHS: 20,850).\n",
            "\n"
          ]
        },
        {
          "output_type": "display_data",
          "data": {
            "text/plain": [
              "plot without title"
            ],
            "image/png": "[encoded data removed]"
          },
          "metadata": {
            "image/png": {
              "width": 420,
              "height": 420
            }
          }
        }
      ]
    },
    {
      "cell_type": "code",
      "execution_count": 17,
      "metadata": {
        "id": "ckO-TmmE7OMP",
        "colab": {
          "base_uri": "https://localhost:8080/",
          "height": 473
        },
        "outputId": "adeefc2a-49a7-4561-a336-cc58d89845d5"
      },
      "outputs": [
        {
          "output_type": "stream",
          "name": "stderr",
          "text": [
            "NOTE: 20,850 observations removed because of NA values (LHS: 20,850).\n",
            "\n"
          ]
        },
        {
          "output_type": "display_data",
          "data": {
            "text/plain": [
              "plot without title"
            ],
            "image/png": "[encoded data removed]"
          },
          "metadata": {
            "image/png": {
              "width": 420,
              "height": 420
            }
          }
        }
      ],
      "source": [
        "\n",
        "event_model <- feols(rice ~ i(event_time, treat, ref = -10) | voronoi_id + pc11_s_id[year],\n",
        "                     data = df1)\n",
        "p1 <- ggiplot(event_model)\n",
        "p1\n",
        "\n",
        "\n",
        "\n",
        "\n",
        "\n",
        "\n",
        "\n",
        "\n"
      ]
    }
  ]
}